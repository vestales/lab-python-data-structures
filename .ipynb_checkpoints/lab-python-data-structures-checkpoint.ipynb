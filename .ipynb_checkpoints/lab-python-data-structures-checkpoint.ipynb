{
 "cells": [
  {
   "cell_type": "markdown",
   "metadata": {
    "tags": []
   },
   "source": [
    "# Lab | Data Structures "
   ]
  },
  {
   "cell_type": "markdown",
   "metadata": {},
   "source": [
    "## Exercise: Managing Customer Orders\n",
    "\n",
    "As part of a business venture, you are starting an online store that sells various products. To ensure smooth operations, you need to develop a program that manages customer orders and inventory.\n",
    "\n",
    "Follow the steps below to complete the exercise:\n",
    "\n",
    "1. Define a list called `products` that contains the following items: \"t-shirt\", \"mug\", \"hat\", \"book\", \"keychain\".\n",
    "\n",
    "2. Create an empty dictionary called `inventory`.\n",
    "\n",
    "3. Ask the user to input the quantity of each product available in the inventory. Use the product names from the `products` list as keys in the `inventory` dictionary and assign the respective quantities as values.\n",
    "\n",
    "4. Create an empty set called `customer_orders`.\n",
    "\n",
    "5. Ask the user to input the name of three products that a customer wants to order (from those in the products list, meaning three products out of \"t-shirt\", \"mug\", \"hat\", \"book\" or \"keychain\". Add each product name to the `customer_orders` set.\n",
    "\n",
    "6. Print the products in the `customer_orders` set.\n",
    "\n",
    "7. Calculate the following order statistics:\n",
    "   - Total Products Ordered: The total number of products in the `customer_orders` set.\n",
    "   - Percentage of Products Ordered: The percentage of products ordered compared to the total available products.\n",
    "   \n",
    "   Store these statistics in a tuple called `order_status`.\n",
    "\n",
    "8. Print the order statistics using the following format:\n",
    "   ```\n",
    "   Order Statistics:\n",
    "   Total Products Ordered: <total_products_ordered>\n",
    "   Percentage of Products Ordered: <percentage_ordered>% \n",
    "   ```\n",
    "\n",
    "9. Update the inventory by subtracting 1 from the quantity of each product. Modify the `inventory` dictionary accordingly.\n",
    "\n",
    "10. Print the updated inventory, displaying the quantity of each product on separate lines.\n",
    "\n",
    "Solve the exercise by implementing the steps using the Python concepts of lists, dictionaries, sets, and basic input/output operations. "
   ]
  },
  {
   "cell_type": "code",
   "execution_count": 29,
   "metadata": {},
   "outputs": [
    {
     "name": "stdin",
     "output_type": "stream",
     "text": [
      "How many t-shirts are in stock? 5\n",
      "How many mug are in stock? 5\n",
      "How many hat are in stock? 5\n",
      "How many book are in stock? 5\n",
      "How many keychain are in stock? 5\n"
     ]
    },
    {
     "name": "stdout",
     "output_type": "stream",
     "text": [
      "{'t-shirt': 5, 'mug': 5, 'hat': 5, 'book': 5, 'keychain': 5}\n"
     ]
    },
    {
     "name": "stdin",
     "output_type": "stream",
     "text": [
      "What item do you want to buy? mug\n",
      "What item do you want to buy? hat\n",
      "What item do you want to buy? book\n"
     ]
    },
    {
     "name": "stdout",
     "output_type": "stream",
     "text": [
      "{'hat', 'mug', 'book'}\n",
      "25\n",
      "12.0\n",
      "Total Products Ordered: 3\n",
      "Percentage of Products Ordered: 12.0 %\n",
      "{'t-shirt': 5, 'mug': 4, 'hat': 4, 'book': 4, 'keychain': 5}\n"
     ]
    }
   ],
   "source": [
    "#definimos la lista de productos\n",
    "products = [\"t-shirt\", \"mug\", \"hat\", \"book\", \"keychain\"]\n",
    "\n",
    "#definimos el inventario y pedimos que introduzcan la cantidad de articulos que hay\n",
    "inventory = {}\n",
    "\n",
    "inventory[\"t-shirt\"] = int(input(\"How many t-shirts are in stock?\").strip())\n",
    "inventory[\"mug\"] = int(input(\"How many mug are in stock?\").strip())\n",
    "inventory[\"hat\"] = int(input(\"How many hat are in stock?\").strip())\n",
    "inventory[\"book\"] = int(input(\"How many book are in stock?\").strip())\n",
    "inventory[\"keychain\"] = int(input(\"How many keychain are in stock?\").strip())\n",
    "\n",
    "print(inventory)\n",
    "\n",
    "#le pedimos al cliente que objetos quiere comprar y lo mostramos\n",
    "customer_orders = {}\n",
    "\n",
    "item_1 = input(\"What item do you want to buy?\").strip()\n",
    "item_2 = input(\"What item do you want to buy?\").strip()\n",
    "item_3 = input(\"What item do you want to buy?\").strip()\n",
    "\n",
    "customer_orders = {item_1, item_2, item_3}\n",
    "\n",
    "print(customer_orders)\n",
    "\n",
    "#calculamos el total de pedidos y el total de stock\n",
    "\n",
    "total_products_ordered = len(customer_orders)\n",
    "\n",
    "stock = 0\n",
    "\n",
    "stock += int(inventory[\"t-shirt\"])\n",
    "stock += int(inventory[\"mug\"])\n",
    "stock += int(inventory[\"hat\"])\n",
    "stock += int(inventory[\"book\"])\n",
    "stock += int(inventory[\"keychain\"])\n",
    "\n",
    "#calculamos el porcentaje de productos pedidos en comparación con el total de productos disponibles \n",
    "percentage_ordered = total_products_ordered / stock * 100\n",
    "\n",
    "order_status = (total_products_ordered, percentage_ordered)\n",
    "#mostramos el total de pedidos ordenados y el porcentaje de productos pedidos\n",
    "\n",
    "print(f\"Total Products Ordered: {total_products_ordered}\")\n",
    "print(f\"Percentage of Products Ordered: {order_status[1]} %\")\n",
    "\n",
    "\n",
    "#quitamos del inventario los productos pedidos y mostramos como queda el inventario\n",
    "\n",
    "inventory[item_1] -= 1\n",
    "inventory[item_2] -= 1\n",
    "inventory[item_3] -= 1\n",
    "\n",
    "print(inventory)\n"
   ]
  },
  {
   "cell_type": "code",
   "execution_count": null,
   "metadata": {},
   "outputs": [],
   "source": []
  }
 ],
 "metadata": {
  "kernelspec": {
   "display_name": "Python 3 (ipykernel)",
   "language": "python",
   "name": "python3"
  },
  "language_info": {
   "codemirror_mode": {
    "name": "ipython",
    "version": 3
   },
   "file_extension": ".py",
   "mimetype": "text/x-python",
   "name": "python",
   "nbconvert_exporter": "python",
   "pygments_lexer": "ipython3",
   "version": "3.11.7"
  }
 },
 "nbformat": 4,
 "nbformat_minor": 4
}
